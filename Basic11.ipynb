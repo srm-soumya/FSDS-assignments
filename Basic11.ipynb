{
 "cells": [
  {
   "cell_type": "markdown",
   "metadata": {},
   "source": [
    "Q1"
   ]
  },
  {
   "cell_type": "code",
   "execution_count": 8,
   "metadata": {},
   "outputs": [
    {
     "name": "stdout",
     "output_type": "stream",
     "text": [
      "Enter words: word table beehive chair laptop python umbrella\n",
      "Enter the max length permissible: 4\n",
      "table\n",
      "beehive\n",
      "chair\n",
      "laptop\n",
      "python\n",
      "umbrella\n"
     ]
    }
   ],
   "source": [
    "arr = [arr for arr in input(\"Enter words: \").split()]\n",
    "k=int(input(\"Enter the max length permissible: \"))\n",
    "for i in arr:\n",
    "    if(len(i))>k:\n",
    "        print(i)"
   ]
  },
  {
   "cell_type": "markdown",
   "metadata": {},
   "source": [
    "Q2"
   ]
  },
  {
   "cell_type": "code",
   "execution_count": 16,
   "metadata": {},
   "outputs": [
    {
     "name": "stdout",
     "output_type": "stream",
     "text": [
      "Enter a string: SoumyaRanjanMishra\n",
      "Enter the index of character you want to remove remember index starts from 0: 6\n",
      "SoumyaanjanMishra\n"
     ]
    }
   ],
   "source": [
    "word=input(\"Enter a string: \")\n",
    "k=int(input(\"Enter the index of character you want to remove remember index starts from 0: \"))\n",
    "print(word[0:k]+word[k+1:len(word)])"
   ]
  },
  {
   "cell_type": "markdown",
   "metadata": {},
   "source": [
    "Q3"
   ]
  },
  {
   "cell_type": "code",
   "execution_count": 17,
   "metadata": {},
   "outputs": [
    {
     "name": "stdout",
     "output_type": "stream",
     "text": [
      "Enter a string: Soumya Ranjan Mishra\n",
      "The splited string is ['Soumya', 'Ranjan', 'Mishra']\n"
     ]
    }
   ],
   "source": [
    "word=input(\"Enter a string: \")\n",
    "print(\"The splited string is\",word.split())"
   ]
  },
  {
   "cell_type": "code",
   "execution_count": 18,
   "metadata": {},
   "outputs": [
    {
     "name": "stdout",
     "output_type": "stream",
     "text": [
      "Enter string 1Soumya\n",
      "Enter string 2Ranjan\n",
      "After joining 2 strings we get:  SoumyaRanjan\n"
     ]
    }
   ],
   "source": [
    "str1=input(\"Enter string 1\")\n",
    "str2=input(\"Enter string 2\")\n",
    "print(\"After joining 2 strings we get: \",str1+str2)"
   ]
  },
  {
   "cell_type": "markdown",
   "metadata": {},
   "source": [
    "Q4"
   ]
  },
  {
   "cell_type": "code",
   "execution_count": 25,
   "metadata": {},
   "outputs": [
    {
     "name": "stdout",
     "output_type": "stream",
     "text": [
      "Enter a string:  01010101100111001\n",
      "Binary string\n"
     ]
    }
   ],
   "source": [
    "sent=input(\"Enter a string:  \")\n",
    "sent1=set(sent)\n",
    "if sent1=={'0','1'} or sent1=={'0'} or sent1=={'1'}:\n",
    "    print(\"Binary string\")\n",
    "else:\n",
    "    print(\"Not Binary string \")"
   ]
  },
  {
   "cell_type": "markdown",
   "metadata": {},
   "source": [
    "Q5"
   ]
  },
  {
   "cell_type": "code",
   "execution_count": 28,
   "metadata": {},
   "outputs": [
    {
     "name": "stdout",
     "output_type": "stream",
     "text": [
      "['Ranjan', 'My', 'name', 'is']\n"
     ]
    }
   ],
   "source": [
    "A=\"Soumya Ranjan Mishra\"\n",
    "B=\"My name is Soumya Mishra\"\n",
    "count = {}   \n",
    "for word in A.split():\n",
    "    count[word] = count.get(word, 0) + 1\n",
    "      \n",
    "\n",
    "for word in B.split():\n",
    "    count[word] = count.get(word, 0) + 1\n",
    "\n",
    "print( [word for word in count if count[word] == 1])"
   ]
  },
  {
   "cell_type": "markdown",
   "metadata": {},
   "source": [
    "Q6"
   ]
  },
  {
   "cell_type": "code",
   "execution_count": 10,
   "metadata": {},
   "outputs": [
    {
     "name": "stdout",
     "output_type": "stream",
     "text": [
      "Enter a string: fewbfsdchbxeiufbebc\n",
      "['f', 'e', 'b', 'c']\n"
     ]
    }
   ],
   "source": [
    "sent=input(\"Enter a string: \")\n",
    "count={}\n",
    "for a in sent:\n",
    "    count[a]=sent.count(a)\n",
    "    \n",
    "print([a for a in count if count[a]>1])"
   ]
  },
  {
   "cell_type": "markdown",
   "metadata": {},
   "source": [
    "Q7"
   ]
  },
  {
   "cell_type": "code",
   "execution_count": 20,
   "metadata": {},
   "outputs": [
    {
     "name": "stdout",
     "output_type": "stream",
     "text": [
      "Enter a string: 3rdcldscno;][].,/.\n",
      "The string contains special characters.\n"
     ]
    }
   ],
   "source": [
    "sent=input(\"Enter a string: \")\n",
    "count=0\n",
    "for a in sent:\n",
    "    asci=ord(a)\n",
    "    if 97<=asci<=122 or 65<=asci<=90 or 48<=asci<=57:\n",
    "        count+=0\n",
    "    else:\n",
    "        count+=1\n",
    "if count>0:\n",
    "    print(\"The string contains special characters.\")\n",
    "else:\n",
    "    print(\"No special characters.\")"
   ]
  }
 ],
 "metadata": {
  "kernelspec": {
   "display_name": "Python 3",
   "language": "python",
   "name": "python3"
  },
  "language_info": {
   "codemirror_mode": {
    "name": "ipython",
    "version": 3
   },
   "file_extension": ".py",
   "mimetype": "text/x-python",
   "name": "python",
   "nbconvert_exporter": "python",
   "pygments_lexer": "ipython3",
   "version": "3.8.5"
  }
 },
 "nbformat": 4,
 "nbformat_minor": 4
}
