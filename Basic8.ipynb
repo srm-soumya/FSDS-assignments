{
 "cells": [
  {
   "cell_type": "markdown",
   "metadata": {},
   "source": [
    "Ques 1"
   ]
  },
  {
   "cell_type": "code",
   "execution_count": 1,
   "metadata": {},
   "outputs": [
    {
     "name": "stdout",
     "output_type": "stream",
     "text": [
      "The sum of the matrices \n",
      " [[13  7  5  3]\n",
      " [ 0  4  0  0]\n",
      " [ 6  1  0 12]] \n",
      " and \n",
      " [[16 26 15 21]\n",
      " [29 19 16 26]\n",
      " [18 15 15 16]] \n",
      " is \n",
      " [[29 33 20 24]\n",
      " [29 23 16 26]\n",
      " [24 16 15 28]]\n"
     ]
    }
   ],
   "source": [
    "import numpy as np\n",
    "def add_matrix():\n",
    "    A=np.matrix(np.random.randint(0,15,12).reshape(3,4))\n",
    "    B=np.matrix(np.random.randint(15,30,12).reshape(3,4))\n",
    "    print(\"The sum of the matrices \\n {} \\n and \\n {} \\n is \\n {}\".format(A,B,A+B))\n",
    "add_matrix()   "
   ]
  },
  {
   "cell_type": "markdown",
   "metadata": {},
   "source": [
    "Ques 2"
   ]
  },
  {
   "cell_type": "code",
   "execution_count": 2,
   "metadata": {},
   "outputs": [
    {
     "name": "stdout",
     "output_type": "stream",
     "text": [
      "The sum of the matrices \n",
      " [[5 8]\n",
      " [9 4]] \n",
      " and \n",
      " [[18 16]\n",
      " [11 16]] \n",
      " is\n",
      " [[178 208]\n",
      " [206 208]]\n"
     ]
    }
   ],
   "source": [
    "import numpy as np\n",
    "def multiply_matrix():\n",
    "    A=np.matrix(np.random.randint(0,10,4).reshape(2,2))\n",
    "    B=np.matrix(np.random.randint(10,20,4).reshape(2,2))\n",
    "    print(\"The sum of the matrices \\n {} \\n and \\n {} \\n is\\n {}\".format(A,B,A*B))\n",
    "multiply_matrix()   "
   ]
  },
  {
   "cell_type": "markdown",
   "metadata": {},
   "source": [
    "Ques 3"
   ]
  },
  {
   "cell_type": "code",
   "execution_count": 3,
   "metadata": {},
   "outputs": [
    {
     "name": "stdout",
     "output_type": "stream",
     "text": [
      "The transpose of the matrix \n",
      " [[ 2  4  6  8 10]\n",
      " [12 14 16 18 20]\n",
      " [22 24 26 28 30]\n",
      " [32 34 36 38 40]] \n",
      " is \n",
      " [[ 2 12 22 32]\n",
      " [ 4 14 24 34]\n",
      " [ 6 16 26 36]\n",
      " [ 8 18 28 38]\n",
      " [10 20 30 40]]\n"
     ]
    }
   ],
   "source": [
    "import numpy as np\n",
    "def matrix_transpose():\n",
    "    X=np.matrix(np.arange(2,41,2).reshape(4,5))\n",
    "    print(\"The transpose of the matrix \\n {} \\n is \\n {}\".format(X,np.transpose(X)))\n",
    "matrix_transpose()"
   ]
  },
  {
   "cell_type": "markdown",
   "metadata": {},
   "source": [
    "Ques 4"
   ]
  },
  {
   "cell_type": "code",
   "execution_count": 91,
   "metadata": {},
   "outputs": [
    {
     "name": "stdout",
     "output_type": "stream",
     "text": [
      "['Appav', 'Apple', 'Grapes', 'Guava', 'Jackfruit', 'Mango', 'Orange', 'Pomegrante']\n"
     ]
    }
   ],
   "source": [
    "words=[\"Guava\",\"Orange\",\"Apple\",\"Appav\",\"Pomegrante\",\"Jackfruit\",\"Grapes\",\"Mango\"]\n",
    "j=0\n",
    "for k in range(len(words)):\n",
    "    for i in range(len(words)-k-1):\n",
    "        if words[i][j]>words[i+1][j]:\n",
    "            words[i],words[i+1]=words[i+1],words[i]\n",
    "        elif words[i][j]==words[i+1][j]:\n",
    "            for j in range(min(len(words[i]),len(words[i+1]))):\n",
    "                if words[i][j]>words[i+1][j]:\n",
    "                    words[i],words[i+1]=words[i+1],words[i]\n",
    "                    break\n",
    "                elif words[i][j]==words[i+1][j]:\n",
    "                    pass\n",
    "                else:\n",
    "                    break\n",
    "            j=0\n",
    "        else:\n",
    "            pass\n",
    "\n",
    "print(words)"
   ]
  },
  {
   "cell_type": "markdown",
   "metadata": {},
   "source": [
    "Ques 5"
   ]
  },
  {
   "cell_type": "code",
   "execution_count": 92,
   "metadata": {},
   "outputs": [],
   "source": [
    "def punc_remove():\n",
    "    string=input(\"Enter a string  \")\n",
    "    punc = '''!()-[]{};:'\"\\,<>./?@#$%^&*_~'''\n",
    "    for i in string:\n",
    "        if i in punc:\n",
    "            string=string.replace(i,\" \")\n",
    "    print(\"THe new string is :\",string)"
   ]
  },
  {
   "cell_type": "code",
   "execution_count": 93,
   "metadata": {},
   "outputs": [
    {
     "name": "stdout",
     "output_type": "stream",
     "text": [
      "Enter a string  my name, is \"SOua;ranja: @Mishra$\n",
      "THe new string is : my name  is  SOua ranja   Mishra \n"
     ]
    }
   ],
   "source": [
    "punc_remove()"
   ]
  },
  {
   "cell_type": "code",
   "execution_count": null,
   "metadata": {},
   "outputs": [],
   "source": []
  }
 ],
 "metadata": {
  "kernelspec": {
   "display_name": "Python 3",
   "language": "python",
   "name": "python3"
  },
  "language_info": {
   "codemirror_mode": {
    "name": "ipython",
    "version": 3
   },
   "file_extension": ".py",
   "mimetype": "text/x-python",
   "name": "python",
   "nbconvert_exporter": "python",
   "pygments_lexer": "ipython3",
   "version": "3.8.5"
  }
 },
 "nbformat": 4,
 "nbformat_minor": 4
}
