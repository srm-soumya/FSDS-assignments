{
 "cells": [
  {
   "cell_type": "markdown",
   "metadata": {},
   "source": [
    "Ques 1"
   ]
  },
  {
   "cell_type": "code",
   "execution_count": 28,
   "metadata": {},
   "outputs": [
    {
     "name": "stdout",
     "output_type": "stream",
     "text": [
      "Enter the 1st number   7\n",
      "Enter the 2nd number   49\n",
      "The LCM is  49.0\n"
     ]
    }
   ],
   "source": [
    "a=int(input(\"Enter the 1st number   \"))\n",
    "b=int(input(\"Enter the 2nd number   \"))\n",
    "count=1\n",
    "n=min(a,b)\n",
    "i=2\n",
    "while i<=n:\n",
    "    if a%i==0 and b%i==0:\n",
    "        count=count*i\n",
    "        a=a/i\n",
    "        b=b/i\n",
    "    else:\n",
    "        i=i+1\n",
    "        \n",
    "        \n",
    "            \n",
    "count=count*a*b\n",
    "print(\"The LCM is \",count)\n"
   ]
  },
  {
   "cell_type": "markdown",
   "metadata": {},
   "source": [
    "Ques 2"
   ]
  },
  {
   "cell_type": "code",
   "execution_count": 33,
   "metadata": {},
   "outputs": [
    {
     "name": "stdout",
     "output_type": "stream",
     "text": [
      "Enter the 1st number   91\n",
      "Enter the 2nd number   13\n",
      "The HCF is  13\n"
     ]
    }
   ],
   "source": [
    "a=int(input(\"Enter the 1st number   \"))\n",
    "b=int(input(\"Enter the 2nd number   \"))\n",
    "count=1\n",
    "n=min(a,b)\n",
    "i=2\n",
    "while i<=n:\n",
    "    if a%i==0 and b%i==0:\n",
    "        count=count*i\n",
    "        a=a/i\n",
    "        b=b/i\n",
    "    else:\n",
    "        i=i+1\n",
    "print(\"The HCF is \",count)"
   ]
  },
  {
   "cell_type": "markdown",
   "metadata": {},
   "source": [
    "Ques 3"
   ]
  },
  {
   "cell_type": "code",
   "execution_count": 38,
   "metadata": {},
   "outputs": [
    {
     "name": "stdout",
     "output_type": "stream",
     "text": [
      "Enter a number  15\n",
      "The binary form is   0b1111\n",
      "The octal form is   0o17\n",
      "The hexadecimal form is   0xf\n"
     ]
    }
   ],
   "source": [
    "x=int(input(\"Enter a number  \"))\n",
    "print(\"The binary form is  \",bin(x))\n",
    "print(\"The octal form is  \",oct(x))\n",
    "print(\"The hexadecimal form is  \",hex(x))"
   ]
  },
  {
   "cell_type": "markdown",
   "metadata": {},
   "source": [
    "Ques 4"
   ]
  },
  {
   "cell_type": "code",
   "execution_count": 48,
   "metadata": {},
   "outputs": [
    {
     "name": "stdout",
     "output_type": "stream",
     "text": [
      "Enter a character to find out the ASCII value   a\n",
      "The ASCII value is   97\n"
     ]
    }
   ],
   "source": [
    "p=input(\"Enter a character to find out the ASCII value   \")\n",
    "print(\"The ASCII value is  \",ord(p))"
   ]
  },
  {
   "cell_type": "markdown",
   "metadata": {},
   "source": [
    "Ques 5"
   ]
  },
  {
   "cell_type": "code",
   "execution_count": 52,
   "metadata": {},
   "outputs": [
    {
     "name": "stdout",
     "output_type": "stream",
     "text": [
      "Enter 1st value  24\n",
      "Enter 2nd value  0\n",
      "Enter the operator  /\n",
      "Division by zero not possible.\n"
     ]
    }
   ],
   "source": [
    "a=int(input(\"Enter 1st value  \"))\n",
    "b=int(input(\"Enter 2nd value  \"))\n",
    "op=input(\"Enter the operator  \")\n",
    "if op=='+':\n",
    "    print(\"The sum is \",a+b)\n",
    "elif op=='-':\n",
    "    print(\"The difference is \",a-b)\n",
    "elif op=='*':\n",
    "    print(\"The product is \",a*b)\n",
    "elif op=='/':\n",
    "    if b==0:\n",
    "        print(\"Division by zero not possible.\")\n",
    "    else:\n",
    "        print(\"The division is \",a/b)\n",
    "else:\n",
    "    print(\"No such operator exists.\")"
   ]
  }
 ],
 "metadata": {
  "kernelspec": {
   "display_name": "Python 3",
   "language": "python",
   "name": "python3"
  },
  "language_info": {
   "codemirror_mode": {
    "name": "ipython",
    "version": 3
   },
   "file_extension": ".py",
   "mimetype": "text/x-python",
   "name": "python",
   "nbconvert_exporter": "python",
   "pygments_lexer": "ipython3",
   "version": "3.8.5"
  }
 },
 "nbformat": 4,
 "nbformat_minor": 4
}
