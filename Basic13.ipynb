{
 "cells": [
  {
   "cell_type": "markdown",
   "metadata": {},
   "source": [
    "Q1"
   ]
  },
  {
   "cell_type": "code",
   "execution_count": 23,
   "metadata": {},
   "outputs": [
    {
     "name": "stdout",
     "output_type": "stream",
     "text": [
      "100,150,180\n",
      "18,22,24\n"
     ]
    }
   ],
   "source": [
    "C,H=50,30\n",
    "Q=[]\n",
    "D=list(map(float,input().split(',')))\n",
    "for i in range(len(D)):\n",
    "    Q.append(int(((2*C*D[i])/H)**0.5))\n",
    "Q1=[str(i) for i in Q]\n",
    "\n",
    "print(\",\".join(Q1))"
   ]
  },
  {
   "cell_type": "markdown",
   "metadata": {},
   "source": [
    "Q2"
   ]
  },
  {
   "cell_type": "code",
   "execution_count": 13,
   "metadata": {},
   "outputs": [
    {
     "name": "stdout",
     "output_type": "stream",
     "text": [
      "Enter the number of rows: 3\n",
      "Enter the number of columns: 5\n",
      "[[0 0 0 0 0]\n",
      " [0 1 2 3 4]\n",
      " [0 2 4 6 8]]\n"
     ]
    }
   ],
   "source": [
    "import numpy as np\n",
    "\n",
    "X=int(input(\"Enter the number of rows: \"))\n",
    "Y=int(input(\"Enter the number of columns: \"))\n",
    "\n",
    "M=np.zeros((X,Y),dtype=int)\n",
    "for i in range(X):\n",
    "    for j in range(Y):\n",
    "        M[i,j]=int(i*j)\n",
    "print(M)"
   ]
  },
  {
   "cell_type": "markdown",
   "metadata": {},
   "source": [
    "Q3"
   ]
  },
  {
   "cell_type": "code",
   "execution_count": 33,
   "metadata": {},
   "outputs": [
    {
     "name": "stdout",
     "output_type": "stream",
     "text": [
      "without,hello,bag,world\n",
      "bag,hello,without,world\n"
     ]
    }
   ],
   "source": [
    "words=list(input().split(\",\"))\n",
    "words.sort()\n",
    "print(\",\".join(words))"
   ]
  },
  {
   "cell_type": "markdown",
   "metadata": {},
   "source": [
    "Q4"
   ]
  },
  {
   "cell_type": "code",
   "execution_count": 35,
   "metadata": {},
   "outputs": [
    {
     "name": "stdout",
     "output_type": "stream",
     "text": [
      "hello world and practice makes perfect and hello world again\n",
      "again and hello makes perfect practice world\n"
     ]
    }
   ],
   "source": [
    "words=list(input().split())\n",
    "words_set=set(words)\n",
    "words=list(words_set)\n",
    "words.sort()\n",
    "print(\" \".join(words))"
   ]
  },
  {
   "cell_type": "markdown",
   "metadata": {},
   "source": [
    "Q5"
   ]
  },
  {
   "cell_type": "code",
   "execution_count": 49,
   "metadata": {},
   "outputs": [
    {
     "name": "stdout",
     "output_type": "stream",
     "text": [
      "hello world! 123\n",
      "LETTERS  10\n",
      "DIGITS  3\n"
     ]
    }
   ],
   "source": [
    "sent=str(input().split())\n",
    "count_num,count_alp=0,0\n",
    "for i in sent:\n",
    "    if 48<=ord(i)<=57:\n",
    "        count_num+=1\n",
    "    if 97<=ord(i)<=122 or 65<=ord(i)<=90:\n",
    "        count_alp+=1\n",
    "print(\"LETTERS \",count_alp)\n",
    "print(\"DIGITS \",count_num)"
   ]
  },
  {
   "cell_type": "markdown",
   "metadata": {},
   "source": [
    "Q6"
   ]
  },
  {
   "cell_type": "code",
   "execution_count": 40,
   "metadata": {},
   "outputs": [],
   "source": [
    "abc=['dsad','fref','regregb']"
   ]
  },
  {
   "cell_type": "code",
   "execution_count": 52,
   "metadata": {},
   "outputs": [
    {
     "name": "stdout",
     "output_type": "stream",
     "text": [
      "ABd1234@1,a F1#,2w3E*,2We3345\n",
      "ABd1234@1\n"
     ]
    }
   ],
   "source": [
    "abc=list(input().split(\",\"))\n",
    "for i in range(len(abc)):\n",
    "    c1,c2,c3,c4=0,0,0,0\n",
    "    c5=len(abc[i])\n",
    "    for j in range(len(abc[i])):\n",
    "        if 97<=ord(abc[i][j])<=122:\n",
    "            c1+=1\n",
    "        if 48<=ord(abc[i][j])<=57:\n",
    "            c2+=1\n",
    "        if 65<=ord(abc[i][j])<=90:\n",
    "            c3+=1\n",
    "        if abc[i][j]=='$' or abc[i][j]=='#' or abc[i][j]=='@':\n",
    "            c4+=1\n",
    "    if c1>=1 and c2>=1 and c3>=1 and c4>=1 and 6<=c5<=12:\n",
    "        print(abc[i])"
   ]
  }
 ],
 "metadata": {
  "kernelspec": {
   "display_name": "Python 3",
   "language": "python",
   "name": "python3"
  },
  "language_info": {
   "codemirror_mode": {
    "name": "ipython",
    "version": 3
   },
   "file_extension": ".py",
   "mimetype": "text/x-python",
   "name": "python",
   "nbconvert_exporter": "python",
   "pygments_lexer": "ipython3",
   "version": "3.8.5"
  }
 },
 "nbformat": 4,
 "nbformat_minor": 4
}
