{
 "cells": [
  {
   "cell_type": "markdown",
   "metadata": {},
   "source": [
    "### Q1 Please write a program using generator to print the numbers which can be divisible by 5 and 7 between 0 and n in comma separated form while n is input by console.\n",
    "Example:\n",
    "If the following n is given as input to the program:\n",
    "100\n",
    "Then, the output of the program should be:\n",
    "0,35,70"
   ]
  },
  {
   "cell_type": "code",
   "execution_count": 2,
   "metadata": {},
   "outputs": [
    {
     "name": "stdout",
     "output_type": "stream",
     "text": [
      "0,35,70,"
     ]
    }
   ],
   "source": [
    "class div_5_7:\n",
    "    def __init__(self,num):\n",
    "        self.num=num\n",
    "    def check(self):\n",
    "        for i in range(self.num):\n",
    "            if i%7==0 and i%5==0:\n",
    "                yield i\n",
    "ans=div_5_7(100)\n",
    "for i in ans.check():\n",
    "    print(i,end=\",\")"
   ]
  },
  {
   "cell_type": "markdown",
   "metadata": {},
   "source": [
    "### Q2. Please write a program using generator to print the even numbers between 0 and n in comma separated form while n is input by console.\n",
    "Example:\n",
    "If the following n is given as input to the program:\n",
    "10\n",
    "Then, the output of the program should be:\n",
    "0,2,4,6,8,10"
   ]
  },
  {
   "cell_type": "code",
   "execution_count": 5,
   "metadata": {},
   "outputs": [
    {
     "name": "stdout",
     "output_type": "stream",
     "text": [
      "0,2,4,6,8,10,"
     ]
    }
   ],
   "source": [
    "class even:\n",
    "    def __init__(self,num):\n",
    "        self.num=num\n",
    "    def check(self):\n",
    "        for i in range(self.num+1):\n",
    "            if i%2==0 :\n",
    "                yield i\n",
    "ans=even(10)\n",
    "for i in ans.check():\n",
    "    print(i,end=\",\")"
   ]
  },
  {
   "cell_type": "markdown",
   "metadata": {},
   "source": [
    "### Q3. The Fibonacci Sequence is computed based on the following formula:\n",
    "#### f(n)=0 if n=0 ;\n",
    "#### f(n)=1 if n=1; \n",
    "#### f(n)=f(n-1)+f(n-2) if n>1\n",
    "##### Please write a program using list comprehension to print the Fibonacci Sequence in comma separated form with a given n input by console.\n",
    "Example:\n",
    "If the following n is given as input to the program:\n",
    "7\n",
    "\n",
    "Then, the output of the program should be:\n",
    "0,1,1,2,3,5,8,13"
   ]
  },
  {
   "cell_type": "code",
   "execution_count": 23,
   "metadata": {},
   "outputs": [
    {
     "name": "stdout",
     "output_type": "stream",
     "text": [
      "Enter n: 7\n",
      "[0, 1, 1, 2, 3, 5, 8, 13]\n"
     ]
    }
   ],
   "source": [
    "def Fib_Seq(n):\n",
    "    if n==0:\n",
    "        return 0\n",
    "    if n==1:\n",
    "        return 1\n",
    "    if n>1:\n",
    "        return Fib_Seq(n-1)+Fib_Seq(n-2)\n",
    "\n",
    "inp=int(input(\"Enter n: \"))\n",
    "print([Fib_Seq(i) for i in range(inp+1)])"
   ]
  },
  {
   "cell_type": "markdown",
   "metadata": {},
   "source": [
    "### Q4. Assuming that we have some email addresses in the &quot;username@companyname.com&quot; format, please write program to print the user name of a given email address. Both user names and company names are composed of letters only.\n",
    "Example:\n",
    "If the following email address is given as input to the program:\n",
    "john@google.com\n",
    "Then, the output of the program should be:\n",
    "john"
   ]
  },
  {
   "cell_type": "code",
   "execution_count": 25,
   "metadata": {},
   "outputs": [
    {
     "name": "stdout",
     "output_type": "stream",
     "text": [
      "Enter an e-mail: john@google.com\n",
      "The user name is:  john\n"
     ]
    }
   ],
   "source": [
    "def e_mail(inp):\n",
    "    for i in range(len(inp)):\n",
    "        if inp[i]==\"@\":\n",
    "            return inp[:i]\n",
    "inp=input(\"Enter an e-mail: \")\n",
    "ans=e_mail(inp)\n",
    "print(\"The user name is: \", ans)"
   ]
  },
  {
   "cell_type": "markdown",
   "metadata": {},
   "source": [
    "### Q5. Define a class named Shape and its subclass Square. The Square class has an init function which takes a length as argument. Both classes have a area function which can print the area of the shape where Shape&#39;s area is 0 by default."
   ]
  },
  {
   "cell_type": "code",
   "execution_count": 31,
   "metadata": {},
   "outputs": [],
   "source": [
    "class Shape:\n",
    "    def area():\n",
    "        return 0\n",
    "class Square(Shape):\n",
    "    def __init__(self,l):\n",
    "        self.l=l\n",
    "    def area(self):\n",
    "        return self.l*self.l    "
   ]
  },
  {
   "cell_type": "code",
   "execution_count": 32,
   "metadata": {},
   "outputs": [
    {
     "name": "stdout",
     "output_type": "stream",
     "text": [
      "225\n"
     ]
    }
   ],
   "source": [
    "s=Square(15)\n",
    "print(s.area())"
   ]
  }
 ],
 "metadata": {
  "kernelspec": {
   "display_name": "Python 3",
   "language": "python",
   "name": "python3"
  },
  "language_info": {
   "codemirror_mode": {
    "name": "ipython",
    "version": 3
   },
   "file_extension": ".py",
   "mimetype": "text/x-python",
   "name": "python",
   "nbconvert_exporter": "python",
   "pygments_lexer": "ipython3",
   "version": "3.8.5"
  }
 },
 "nbformat": 4,
 "nbformat_minor": 4
}
