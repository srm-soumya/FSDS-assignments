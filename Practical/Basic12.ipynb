{
 "cells": [
  {
   "cell_type": "markdown",
   "metadata": {},
   "source": [
    "Q1"
   ]
  },
  {
   "cell_type": "code",
   "execution_count": 1,
   "metadata": {},
   "outputs": [
    {
     "name": "stdout",
     "output_type": "stream",
     "text": [
      "The unique values are:  [1, 2, 3, 4]\n"
     ]
    }
   ],
   "source": [
    "#Extract unique values\n",
    "\n",
    "dic={'as':1,'sad':2,'rat':3,'dog':1,'table':2,'chair':4}\n",
    "res = list(set(val for val in dic.values()))\n",
    "print(\"The unique values are: \",res)"
   ]
  },
  {
   "cell_type": "markdown",
   "metadata": {},
   "source": [
    "Q2"
   ]
  },
  {
   "cell_type": "code",
   "execution_count": 5,
   "metadata": {},
   "outputs": [
    {
     "name": "stdout",
     "output_type": "stream",
     "text": [
      "The sum of all values are: 13\n"
     ]
    }
   ],
   "source": [
    "#find sum of values in a dictionary\n",
    "\n",
    "dic={'as':1,'sad':2,'rat':3,'dog':1,'table':2,'chair':4}\n",
    "res = list(val for val in dic.values())\n",
    "print(\"The sum of all values are:\",sum(res))"
   ]
  },
  {
   "cell_type": "markdown",
   "metadata": {},
   "source": [
    "Q3"
   ]
  },
  {
   "cell_type": "code",
   "execution_count": 7,
   "metadata": {},
   "outputs": [
    {
     "name": "stdout",
     "output_type": "stream",
     "text": [
      "After merging the 2 dictionaries:  {'as': 1, 'sad': 2, 'rat': 3, 'dog': 1, 'table': 2, 'chair': 4, 'fan': 33, 'frog': 54, 'yak': 90}\n"
     ]
    }
   ],
   "source": [
    "#Merge 2 dictionaries\n",
    "\n",
    "dic1={'as':1,'sad':2,'rat':3,'dog':1,'table':2,'chair':4}\n",
    "dic2={'fan':33,'frog':54,'yak':90}\n",
    "merging = {**dic1, **dic2}\n",
    "print(\"After merging the 2 dictionaries: \",merging)"
   ]
  },
  {
   "cell_type": "markdown",
   "metadata": {},
   "source": [
    "Q4"
   ]
  },
  {
   "cell_type": "code",
   "execution_count": 8,
   "metadata": {},
   "outputs": [
    {
     "name": "stdout",
     "output_type": "stream",
     "text": [
      "The original dictionary is : {'month': [1, 2, 3], 'name': ['Jan', 'Feb', 'March']}\n",
      "Flattened dictionary : {1: 'Jan', 2: 'Feb', 3: 'March'}\n"
     ]
    }
   ],
   "source": [
    "#Convert key values to flat dictionary\n",
    "\n",
    "test_dict = {'month' : [1, 2, 3],'name' : ['Jan', 'Feb', 'March']}\n",
    "  \n",
    "\n",
    "print(\"The original dictionary is : \" + str(test_dict))\n",
    "\n",
    "res = dict(zip(test_dict['month'], test_dict['name']))\n",
    "\n",
    "print(\"Flattened dictionary : \" + str(res))"
   ]
  },
  {
   "cell_type": "markdown",
   "metadata": {},
   "source": [
    "Q5"
   ]
  },
  {
   "cell_type": "code",
   "execution_count": 11,
   "metadata": {},
   "outputs": [
    {
     "name": "stdout",
     "output_type": "stream",
     "text": [
      "Resultant Dictionary : OrderedDict([('mishra', '3'), ('soumya', '1'), ('ranjan', '2')])\n"
     ]
    }
   ],
   "source": [
    "#Insertion at the beginning of dictionary\n",
    "\n",
    "from collections import OrderedDict\n",
    "\n",
    "\n",
    "dic5 = OrderedDict([('soumya', '1'), ('ranjan', '2')])\n",
    " \n",
    "# inserting items in starting of dict\n",
    "dic5.update({'mishra':'3'})\n",
    "dic5.move_to_end('mishra', last = False)\n",
    " \n",
    "# print result\n",
    "print (\"Resultant Dictionary : \"+str(dic5))"
   ]
  },
  {
   "cell_type": "markdown",
   "metadata": {},
   "source": [
    "Q6"
   ]
  },
  {
   "cell_type": "code",
   "execution_count": 31,
   "metadata": {},
   "outputs": [
    {
     "name": "stdout",
     "output_type": "stream",
     "text": [
      "True\n"
     ]
    }
   ],
   "source": [
    "#check order of character in string using OrderedDict()?\n",
    "\n",
    "from collections import OrderedDict \n",
    "  \n",
    "def checkOrder(input, pattern): \n",
    "      \n",
    "    # create empty OrderedDict \n",
    "    # output will be like {'a': None,'b': None, 'c': None} \n",
    "    dict = OrderedDict.fromkeys(input) \n",
    "  \n",
    "    \n",
    "    ptrlen = 0\n",
    "    for key,value in dict.items(): \n",
    "        if (key == pattern[ptrlen]): \n",
    "            ptrlen = ptrlen + 1\n",
    "          \n",
    "        \n",
    "         \n",
    "        if (ptrlen == (len(pattern))): \n",
    "            return 'True'\n",
    "  \n",
    "    \n",
    "    return 'false'\n",
    "  \n",
    "\n",
    "if __name__ == \"__main__\": \n",
    "    input = 'Soumya Ranjan Mishra'\n",
    "    pattern = 'oua'\n",
    "    print (checkOrder(input,pattern))"
   ]
  },
  {
   "cell_type": "markdown",
   "metadata": {},
   "source": [
    "Q7"
   ]
  },
  {
   "cell_type": "code",
   "execution_count": 32,
   "metadata": {},
   "outputs": [
    {
     "name": "stdout",
     "output_type": "stream",
     "text": [
      "1 24\n",
      "2 121\n",
      "4 35\n",
      "5 13\n",
      "7 61\n",
      "8 10\n",
      "9 12\n"
     ]
    }
   ],
   "source": [
    "#sort dictionaries by key\n",
    "\n",
    "dicti={1:24,7:61,2:121,9:12,4:35,5:13,8:10}\n",
    "for i in sorted(dicti.keys()):\n",
    "    print(i,dicti[i])"
   ]
  },
  {
   "cell_type": "code",
   "execution_count": 41,
   "metadata": {},
   "outputs": [
    {
     "name": "stdout",
     "output_type": "stream",
     "text": [
      "[(8, 10), (9, 12), (5, 13), (1, 24), (4, 35), (7, 61), (2, 121)]\n"
     ]
    }
   ],
   "source": [
    "#sort dictionarires by values\n",
    "\n",
    "dicti={1:24,7:61,2:121,9:12,4:35,5:13,8:10}\n",
    "print(sorted(dicti.items(), key =lambda kv:kv[1]))"
   ]
  },
  {
   "cell_type": "code",
   "execution_count": null,
   "metadata": {},
   "outputs": [],
   "source": []
  }
 ],
 "metadata": {
  "kernelspec": {
   "display_name": "Python 3",
   "language": "python",
   "name": "python3"
  },
  "language_info": {
   "codemirror_mode": {
    "name": "ipython",
    "version": 3
   },
   "file_extension": ".py",
   "mimetype": "text/x-python",
   "name": "python",
   "nbconvert_exporter": "python",
   "pygments_lexer": "ipython3",
   "version": "3.8.5"
  }
 },
 "nbformat": 4,
 "nbformat_minor": 4
}
