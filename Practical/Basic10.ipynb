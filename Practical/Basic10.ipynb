{
 "cells": [
  {
   "cell_type": "markdown",
   "metadata": {},
   "source": [
    "Q1"
   ]
  },
  {
   "cell_type": "code",
   "execution_count": 6,
   "metadata": {},
   "outputs": [
    {
     "name": "stdout",
     "output_type": "stream",
     "text": [
      "1 2 4 5 6 7 8 9\n",
      "The multiplication of the array is: 42\n"
     ]
    }
   ],
   "source": [
    "arr=list(map(int,input().split()))\n",
    "add=0\n",
    "for i in arr:\n",
    "    add=add+i\n",
    "print(\"The multiplication of the array is:\",add)"
   ]
  },
  {
   "cell_type": "markdown",
   "metadata": {},
   "source": [
    "Q2"
   ]
  },
  {
   "cell_type": "code",
   "execution_count": 5,
   "metadata": {},
   "outputs": [
    {
     "name": "stdout",
     "output_type": "stream",
     "text": [
      "12 34 5 6 7 89 12\n",
      "The multiplication of the array is: 91506240\n"
     ]
    }
   ],
   "source": [
    "arr=list(map(int,input().split()))\n",
    "mult=1\n",
    "for i in arr:\n",
    "    mult=mult*i\n",
    "print(\"The multiplication of the array is:\",mult)"
   ]
  },
  {
   "cell_type": "code",
   "execution_count": null,
   "metadata": {},
   "outputs": [],
   "source": [
    "arr=list(map(int,input().split()))\n",
    "print(\"The max element in the array is:\",max(arr))"
   ]
  },
  {
   "cell_type": "markdown",
   "metadata": {},
   "source": [
    "Q3"
   ]
  },
  {
   "cell_type": "code",
   "execution_count": 4,
   "metadata": {},
   "outputs": [
    {
     "name": "stdout",
     "output_type": "stream",
     "text": [
      "12 13 59 90 9 78 56 53 34\n",
      "The smallest element in the array is: 9\n"
     ]
    }
   ],
   "source": [
    "arr=list(map(int,input().split()))\n",
    "print(\"The smallest element in the array is:\",min(arr))"
   ]
  },
  {
   "cell_type": "markdown",
   "metadata": {},
   "source": [
    "Q4"
   ]
  },
  {
   "cell_type": "code",
   "execution_count": 3,
   "metadata": {},
   "outputs": [
    {
     "name": "stdout",
     "output_type": "stream",
     "text": [
      "22 21 43 59 55 90 84\n",
      "The largest element in the array is: 90\n"
     ]
    }
   ],
   "source": [
    "arr=list(map(int,input().split()))\n",
    "print(\"The largest element in the array is:\",max(arr))"
   ]
  },
  {
   "cell_type": "markdown",
   "metadata": {},
   "source": [
    "Q5"
   ]
  },
  {
   "cell_type": "code",
   "execution_count": 8,
   "metadata": {},
   "outputs": [
    {
     "name": "stdout",
     "output_type": "stream",
     "text": [
      "45 67 47 78 83 84 90 89\n",
      "The second largest element in the array is: 89\n"
     ]
    }
   ],
   "source": [
    "arr=list(map(int,input().split()))\n",
    "arr.remove(max(arr))\n",
    "print(\"The second largest element in the array is:\",max(arr))"
   ]
  },
  {
   "cell_type": "markdown",
   "metadata": {},
   "source": [
    "Q6"
   ]
  },
  {
   "cell_type": "code",
   "execution_count": 9,
   "metadata": {},
   "outputs": [
    {
     "name": "stdout",
     "output_type": "stream",
     "text": [
      "12 31 43 32 67 37 89 60 90 97 95 35 56\n",
      "Enter the number of largest numbers you want to find: 5\n",
      "97\n",
      "95\n",
      "90\n",
      "89\n",
      "67\n"
     ]
    }
   ],
   "source": [
    "arr=list(map(int,input().split()))\n",
    "enter=int(input(\"Enter the number of largest numbers you want to find: \"))\n",
    "count=1\n",
    "while count<=enter:\n",
    "    print(max(arr))\n",
    "    arr.remove(max(arr))\n",
    "    count+=1"
   ]
  },
  {
   "cell_type": "markdown",
   "metadata": {},
   "source": [
    "Q7"
   ]
  },
  {
   "cell_type": "code",
   "execution_count": 10,
   "metadata": {},
   "outputs": [
    {
     "name": "stdout",
     "output_type": "stream",
     "text": [
      "12 23 43 54 67 89 42 45 66 88 90\n",
      "12\n",
      "54\n",
      "42\n",
      "66\n",
      "88\n",
      "90\n"
     ]
    }
   ],
   "source": [
    "arr=list(map(int,input().split()))\n",
    "for i in arr:\n",
    "    if i%2==0:\n",
    "        print(i)"
   ]
  },
  {
   "cell_type": "markdown",
   "metadata": {},
   "source": [
    "Q8"
   ]
  },
  {
   "cell_type": "code",
   "execution_count": 11,
   "metadata": {},
   "outputs": [
    {
     "name": "stdout",
     "output_type": "stream",
     "text": [
      "21 23 56 78 70 90 34 56 75\n",
      "21\n",
      "23\n",
      "75\n"
     ]
    }
   ],
   "source": [
    "arr=list(map(int,input().split()))\n",
    "for i in arr:\n",
    "    if i%2!=0:\n",
    "        print(i)"
   ]
  },
  {
   "cell_type": "markdown",
   "metadata": {},
   "source": [
    "Q9"
   ]
  },
  {
   "cell_type": "code",
   "execution_count": 12,
   "metadata": {},
   "outputs": [
    {
     "name": "stdout",
     "output_type": "stream",
     "text": [
      "23 12 42 43 13 53 67 89\n",
      "The copied list is:  [23, 12, 42, 43, 13, 53, 67, 89]\n"
     ]
    }
   ],
   "source": [
    "arr=list(map(int,input().split()))\n",
    "arr1=arr.copy()\n",
    "print(\"The copied list is: \",arr1)"
   ]
  },
  {
   "cell_type": "markdown",
   "metadata": {},
   "source": [
    "Q10"
   ]
  },
  {
   "cell_type": "code",
   "execution_count": 13,
   "metadata": {},
   "outputs": [
    {
     "name": "stdout",
     "output_type": "stream",
     "text": [
      "12 24 543 32 21 12 12 53 32 56 78 89 12\n",
      "Enter the element whose occurence you want to find 12\n",
      "The no of occurences of 12 is:  4\n"
     ]
    }
   ],
   "source": [
    "arr=list(map(int,input().split()))\n",
    "x=int(input(\"Enter the element whose occurence you want to find \"))\n",
    "count=0\n",
    "for i in arr:\n",
    "    if x==i:\n",
    "        count+=1\n",
    "print(\"The no of occurences of\",x,\"is: \",count)"
   ]
  }
 ],
 "metadata": {
  "kernelspec": {
   "display_name": "Python 3",
   "language": "python",
   "name": "python3"
  },
  "language_info": {
   "codemirror_mode": {
    "name": "ipython",
    "version": 3
   },
   "file_extension": ".py",
   "mimetype": "text/x-python",
   "name": "python",
   "nbconvert_exporter": "python",
   "pygments_lexer": "ipython3",
   "version": "3.8.5"
  }
 },
 "nbformat": 4,
 "nbformat_minor": 4
}
