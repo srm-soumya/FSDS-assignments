{
 "cells": [
  {
   "cell_type": "markdown",
   "metadata": {},
   "source": [
    "Question 1"
   ]
  },
  {
   "cell_type": "code",
   "execution_count": 20,
   "metadata": {},
   "outputs": [
    {
     "name": "stdout",
     "output_type": "stream",
     "text": [
      "Enter a number: 175\n",
      "Disarium Number.\n"
     ]
    }
   ],
   "source": [
    "n=int(input(\"Enter a number: \"))\n",
    "num=n\n",
    "count,sum=0,0\n",
    "while num>0:\n",
    "    count=count+1\n",
    "    num=num//10\n",
    "num=n\n",
    "while num>0:\n",
    "    rem=num%10\n",
    "    sum=sum+rem**count\n",
    "    count=count-1\n",
    "    num=num//10\n",
    "if n==sum:\n",
    "    print(\"Disarium Number.\")\n",
    "else:\n",
    "    print(\"Not a Disarium Number.\")  \n",
    "    "
   ]
  },
  {
   "cell_type": "markdown",
   "metadata": {},
   "source": [
    "Question 2"
   ]
  },
  {
   "cell_type": "code",
   "execution_count": 25,
   "metadata": {},
   "outputs": [
    {
     "name": "stdout",
     "output_type": "stream",
     "text": [
      "1\n",
      "2\n",
      "3\n",
      "4\n",
      "5\n",
      "6\n",
      "7\n",
      "8\n",
      "9\n",
      "89\n"
     ]
    }
   ],
   "source": [
    "for i in range(1,100):\n",
    "    num=i\n",
    "    count,sum=0,0\n",
    "    while num>0:\n",
    "        count=count+1\n",
    "        num=num//10\n",
    "    num=i\n",
    "    while num>0:\n",
    "        rem=num%10\n",
    "        sum=sum+rem**count\n",
    "        count=count-1\n",
    "        num=num//10\n",
    "    if i==sum:\n",
    "        print(i)\n",
    "    "
   ]
  },
  {
   "cell_type": "markdown",
   "metadata": {},
   "source": [
    "Question 3"
   ]
  },
  {
   "cell_type": "code",
   "execution_count": 43,
   "metadata": {},
   "outputs": [
    {
     "name": "stdout",
     "output_type": "stream",
     "text": [
      "Enter a number to be checked  13\n",
      "13 is a happy number\n"
     ]
    }
   ],
   "source": [
    "def Happy(num):\n",
    "    rem = sum = 0\n",
    "\n",
    "    while (num > 0):\n",
    "        rem = num % 10\n",
    "        sum = sum + (rem * rem)\n",
    "        num = num // 10\n",
    "    return sum\n",
    "\n",
    "\n",
    "num = int(input(\"Enter a number to be checked  \"))\n",
    "result = num\n",
    "\n",
    "while (result != 1 and result != 4):\n",
    "    result = Happy(result)\n",
    "\n",
    "if (result == 1):\n",
    "    print(str(num) + \" is a happy number\")\n",
    "\n",
    "elif (result == 4):\n",
    "    print(str(num) + \" is not a happy number\")"
   ]
  },
  {
   "cell_type": "markdown",
   "metadata": {},
   "source": [
    "Question 4"
   ]
  },
  {
   "cell_type": "code",
   "execution_count": 46,
   "metadata": {},
   "outputs": [
    {
     "name": "stdout",
     "output_type": "stream",
     "text": [
      "1\n",
      "7\n",
      "10\n",
      "13\n",
      "19\n",
      "23\n",
      "28\n",
      "31\n",
      "32\n",
      "44\n",
      "49\n",
      "68\n",
      "70\n",
      "79\n",
      "82\n",
      "86\n",
      "91\n",
      "94\n",
      "97\n"
     ]
    }
   ],
   "source": [
    "def Happy(num):\n",
    "    rem = sum = 0\n",
    "\n",
    "    while (num > 0):\n",
    "        rem = num % 10\n",
    "        sum = sum + (rem * rem)\n",
    "        num = num // 10\n",
    "    return sum\n",
    "\n",
    "for i in range(1,100):\n",
    "    result = i\n",
    "\n",
    "    while (result != 1 and result != 4):\n",
    "        result = Happy(result)\n",
    "\n",
    "    if (result == 1):\n",
    "        print(i)\n"
   ]
  },
  {
   "cell_type": "markdown",
   "metadata": {},
   "source": [
    "Question 5"
   ]
  },
  {
   "cell_type": "code",
   "execution_count": 30,
   "metadata": {},
   "outputs": [
    {
     "name": "stdout",
     "output_type": "stream",
     "text": [
      "Enter a number  353\n",
      "Not Harshad Number.\n"
     ]
    }
   ],
   "source": [
    "def Harshad():\n",
    "    n=int(input(\"Enter a number  \"))\n",
    "    num=n\n",
    "    sum=0\n",
    "    while num>0:\n",
    "        rem=num%10\n",
    "        sum=sum+rem\n",
    "        num=num//10\n",
    "    if n%sum==0:\n",
    "        print(\"Harshad Number.\")\n",
    "    else:\n",
    "        print(\"Not Harshad Number.\")    \n",
    "Harshad()"
   ]
  },
  {
   "cell_type": "markdown",
   "metadata": {},
   "source": [
    "Question 6"
   ]
  },
  {
   "cell_type": "code",
   "execution_count": 32,
   "metadata": {},
   "outputs": [
    {
     "name": "stdout",
     "output_type": "stream",
     "text": [
      "1\n",
      "2\n",
      "3\n",
      "4\n",
      "5\n",
      "6\n",
      "7\n",
      "8\n",
      "9\n",
      "10\n",
      "12\n",
      "18\n",
      "20\n",
      "21\n",
      "24\n",
      "27\n",
      "30\n",
      "36\n",
      "40\n",
      "42\n",
      "45\n",
      "48\n",
      "50\n",
      "54\n",
      "60\n",
      "63\n",
      "70\n",
      "72\n",
      "80\n",
      "81\n",
      "84\n",
      "90\n"
     ]
    }
   ],
   "source": [
    "for i in range(1,100):\n",
    "    num=i\n",
    "    sum=0\n",
    "    while num>0:\n",
    "        rem=num%10\n",
    "        sum=sum+rem\n",
    "        num=num//10\n",
    "    if i%sum==0:\n",
    "        print(i)    "
   ]
  }
 ],
 "metadata": {
  "kernelspec": {
   "display_name": "Python 3",
   "language": "python",
   "name": "python3"
  },
  "language_info": {
   "codemirror_mode": {
    "name": "ipython",
    "version": 3
   },
   "file_extension": ".py",
   "mimetype": "text/x-python",
   "name": "python",
   "nbconvert_exporter": "python",
   "pygments_lexer": "ipython3",
   "version": "3.8.5"
  }
 },
 "nbformat": 4,
 "nbformat_minor": 4
}
