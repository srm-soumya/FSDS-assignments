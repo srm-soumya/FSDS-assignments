{
 "cells": [
  {
   "cell_type": "markdown",
   "metadata": {},
   "source": [
    "Ques 1"
   ]
  },
  {
   "cell_type": "code",
   "execution_count": 6,
   "metadata": {},
   "outputs": [
    {
     "name": "stdout",
     "output_type": "stream",
     "text": [
      "Enter the lenght of array:  5\n",
      "Enter next value:  231\n",
      "Enter next value:  31\n",
      "Enter next value:  89\n",
      "Enter next value:  23\n",
      "Enter next value:  12\n",
      "The sum of all the elements is  386\n"
     ]
    }
   ],
   "source": [
    "import array as arr\n",
    "vals=arr.array('i',[])\n",
    "sum=0\n",
    "n=int(input(\"Enter the lenght of array:  \"))\n",
    "for i in range(n):\n",
    "    x=int(input(\"Enter next value:  \"))\n",
    "    vals.append(x)\n",
    "    sum+=x\n",
    "print(\"The sum of all the elements is \",sum)"
   ]
  },
  {
   "cell_type": "markdown",
   "metadata": {},
   "source": [
    "Ques 2"
   ]
  },
  {
   "cell_type": "code",
   "execution_count": 10,
   "metadata": {},
   "outputs": [
    {
     "name": "stdout",
     "output_type": "stream",
     "text": [
      "Enter the lenght of array:  5\n",
      "Enter next value:  123\n",
      "Enter next value:  315\n",
      "Enter next value:  99\n",
      "Enter next value:  597\n",
      "Enter next value:  231\n",
      "The largest in the array is  597\n"
     ]
    }
   ],
   "source": [
    "import array as arr\n",
    "vals=arr.array('i',[])\n",
    "n=int(input(\"Enter the lenght of array:  \"))\n",
    "for i in range(n):\n",
    "    x=int(input(\"Enter next value:  \"))\n",
    "    vals.append(x)\n",
    "large=vals[0]\n",
    "for i in range(n):\n",
    "    if vals[i]>large:\n",
    "        large=vals[i]\n",
    "print(\"The largest in the array is \",large)\n",
    "    "
   ]
  },
  {
   "cell_type": "markdown",
   "metadata": {},
   "source": [
    "Ques 3"
   ]
  },
  {
   "cell_type": "code",
   "execution_count": 6,
   "metadata": {},
   "outputs": [
    {
     "name": "stdout",
     "output_type": "stream",
     "text": [
      "After rotation from the array is \n",
      "65\n",
      "90\n",
      "54\n",
      "34\n",
      "76\n",
      "19\n",
      "32\n",
      "43\n"
     ]
    }
   ],
   "source": [
    "def rotation_arr(arr,n,x):\n",
    "    temp=[]\n",
    "    for i in range(x):\n",
    "        temp.append(arr[i])\n",
    "    i=0\n",
    "    while x<n:\n",
    "        arr[i]=arr[x]\n",
    "        i+=1\n",
    "        x+=1\n",
    "    arr[:]=arr[:i]+temp\n",
    "    print(\"After rotation from the array is \")\n",
    "    for i in range(n):\n",
    "        print(arr[i])\n",
    "\n",
    "\n",
    "ar=[32,43,65,90,54,34,76,19]\n",
    "rotation_arr(ar,len(ar),2)"
   ]
  },
  {
   "cell_type": "markdown",
   "metadata": {},
   "source": [
    "Ques 4"
   ]
  },
  {
   "cell_type": "code",
   "execution_count": 11,
   "metadata": {},
   "outputs": [
    {
     "name": "stdout",
     "output_type": "stream",
     "text": [
      "After splitting the array is \n",
      "79\n",
      "90\n",
      "29\n",
      "15\n",
      "56\n",
      "78\n",
      "64\n",
      "34\n"
     ]
    }
   ],
   "source": [
    "def split_arr(arr,n):\n",
    "    x=int(n/2)\n",
    "    temp=[]\n",
    "    for i in range(x):\n",
    "        temp.append(arr[i])\n",
    "    i=0\n",
    "    while x<n:\n",
    "        arr[i]=arr[x]\n",
    "        i+=1\n",
    "        x+=1\n",
    "    arr[:]=arr[:i]+temp\n",
    "    print(\"After splitting the array is \")\n",
    "    for i in range(n):\n",
    "        print(arr[i])\n",
    "\n",
    "\n",
    "ar=[56,78,64,34,79,90,29,15]\n",
    "split_arr(ar,len(ar))"
   ]
  },
  {
   "cell_type": "markdown",
   "metadata": {},
   "source": [
    "Ques 5"
   ]
  },
  {
   "cell_type": "code",
   "execution_count": 32,
   "metadata": {},
   "outputs": [
    {
     "data": {
      "text/plain": [
       "'Monotonically decreasing'"
      ]
     },
     "execution_count": 32,
     "metadata": {},
     "output_type": "execute_result"
    }
   ],
   "source": [
    "def check_monotonic(arr):\n",
    "    countinc,countdec=0,0\n",
    "    n=len(arr)\n",
    "    if all(arr[i] <= arr[i + 1] for i in range(len(arr) - 1)): \n",
    "        return \"Monotonically increasing\"\n",
    "    elif all(arr[i] >= arr[i + 1] for i in range(len(arr) - 1)):\n",
    "        return \"Monotonically decreasing\"\n",
    "    else:\n",
    "        return \"Not monotonic\" \n",
    "    \n",
    "\n",
    "    \n",
    "ar=[9,8,7,5,5,2,1]\n",
    "check_monotonic(ar)"
   ]
  }
 ],
 "metadata": {
  "kernelspec": {
   "display_name": "Python 3",
   "language": "python",
   "name": "python3"
  }
 },
 "nbformat": 4,
 "nbformat_minor": 4
}
