{
 "cells": [
  {
   "cell_type": "markdown",
   "metadata": {},
   "source": [
    "### 1. Create a function that takes the width, height and character and returns a picture frame as a 2D list.\n",
    "Examples\n",
    "\n",
    "get_frame(4, 5, &quot;#&quot;) ➞ \n",
    "[\n",
    "\n",
    "[&quot;####&quot;],\n",
    "\n",
    "[&quot;# #&quot;],\n",
    "\n",
    "[&quot;# #&quot;],\n",
    "\n",
    "[&quot;# #&quot;],\n",
    "\n",
    "[&quot;####&quot;]\n",
    "]\n",
    "\n",
    " Frame is 4 characters wide and 5 characters tall.\n",
    "\n",
    "get_frame(10, 3, &quot;*&quot;) ➞ [\n",
    "[&quot;**********&quot;],\n",
    "[&quot;* *&quot;],\n",
    "[&quot;**********&quot;]\n",
    "]\n",
    "\n",
    "Frame is 10 characters and wide and 3 characters tall.\n",
    "\n",
    "get_frame(2, 5, &quot;0&quot;) ➞ &quot;invalid&quot;\n",
    " Frame&#39;s width is not more than 2."
   ]
  },
  {
   "cell_type": "code",
   "execution_count": 6,
   "metadata": {},
   "outputs": [],
   "source": [
    "def get_frame(in_width,in_height,ch):\n",
    "    if in_width<4 and in_height<5:\n",
    "        return \"Invalid\"\n",
    "    else:\n",
    "        out_list = []\n",
    "        for height in range(in_height):\n",
    "            if height == 0 or height == in_height-1:\n",
    "                out_list.append([in_width*ch])\n",
    "            else:\n",
    "                out_list.append([ch+' '*(in_width-2)+ch])\n",
    "        for ele in out_list:\n",
    "            print(ele)\n",
    "        print()"
   ]
  },
  {
   "cell_type": "code",
   "execution_count": 7,
   "metadata": {},
   "outputs": [
    {
     "name": "stdout",
     "output_type": "stream",
     "text": [
      "['####']\n",
      "['#  #']\n",
      "['#  #']\n",
      "['#  #']\n",
      "['####']\n",
      "\n"
     ]
    }
   ],
   "source": [
    "get_frame(4, 5, \"#\")"
   ]
  },
  {
   "cell_type": "markdown",
   "metadata": {},
   "source": [
    "### 2. Write three functions:\n",
    "1. boolean_and\n",
    "2. boolean_or\n",
    "3. boolean_xor\n",
    "\n",
    "#### These functions should evaluate a list of True and False values, starting from the leftmost element and evaluating pairwise.\n",
    "Examples\n",
    "boolean_and([True, True, False, True]) ➞ False\n",
    "\n",
    " [True, True, False, True] =&gt; [True, False, True] =&gt; [False, True] =&gt; False\n",
    " \n",
    "boolean_or([True, True, False, False]) ➞ True\n",
    "\n",
    " [True, True, False, True] =&gt; [True, False, False] =&gt; [True, False] =&gt; True\n",
    " \n",
    " boolean_xor([True, True, False, False]) ➞ False\n",
    " \n",
    " [True, True, False, False] =&gt; [False, False, False] =&gt; [False, False] =&gt;\n",
    "False"
   ]
  },
  {
   "cell_type": "code",
   "execution_count": 8,
   "metadata": {},
   "outputs": [],
   "source": [
    "def boolean_and(inp):\n",
    "    ans=inp[0] and inp[1]\n",
    "    for i in range(2,len(inp)):\n",
    "        ans=ans and inp[i]\n",
    "    return ans"
   ]
  },
  {
   "cell_type": "code",
   "execution_count": 9,
   "metadata": {},
   "outputs": [
    {
     "data": {
      "text/plain": [
       "False"
      ]
     },
     "execution_count": 9,
     "metadata": {},
     "output_type": "execute_result"
    }
   ],
   "source": [
    " boolean_and([True, True, False, True]) "
   ]
  },
  {
   "cell_type": "code",
   "execution_count": 10,
   "metadata": {},
   "outputs": [],
   "source": [
    "def boolean_or(inp):\n",
    "    ans=inp[0] or inp[1]\n",
    "    for i in range(2,len(inp)):\n",
    "        ans=ans or inp[i]\n",
    "    return ans"
   ]
  },
  {
   "cell_type": "code",
   "execution_count": 11,
   "metadata": {},
   "outputs": [
    {
     "data": {
      "text/plain": [
       "True"
      ]
     },
     "execution_count": 11,
     "metadata": {},
     "output_type": "execute_result"
    }
   ],
   "source": [
    "boolean_or([True, True, False, False])"
   ]
  },
  {
   "cell_type": "code",
   "execution_count": 12,
   "metadata": {},
   "outputs": [],
   "source": [
    "def boolean_xor(inp):\n",
    "    ans=inp[0] ^ inp[1]\n",
    "    for i in range(2,len(inp)):\n",
    "        ans=ans ^ inp[i]\n",
    "    return ans"
   ]
  },
  {
   "cell_type": "code",
   "execution_count": 13,
   "metadata": {},
   "outputs": [
    {
     "data": {
      "text/plain": [
       "False"
      ]
     },
     "execution_count": 13,
     "metadata": {},
     "output_type": "execute_result"
    }
   ],
   "source": [
    "boolean_xor([True, True, False, False])"
   ]
  },
  {
   "cell_type": "markdown",
   "metadata": {},
   "source": [
    "### 3. Create a function that creates a box based on dimension n.\n",
    "Examples\n",
    "\n",
    "make_box(5) ➞ [\n",
    "&quot;#####&quot;,\n",
    "&quot;# #&quot;,\n",
    "&quot;# #&quot;,\n",
    "&quot;# #&quot;,\n",
    "&quot;#####&quot;\n",
    "]\n",
    "\n",
    "make_box(3) ➞ [\n",
    "&quot;###&quot;,\n",
    "&quot;# #&quot;,\n",
    "&quot;###&quot;\n",
    "]\n",
    "\n",
    "make_box(2) ➞ [\n",
    "&quot;##&quot;,\n",
    "&quot;##&quot;\n",
    "]\n",
    "\n",
    "make_box(1) ➞ [\n",
    "&quot;#&quot;\n",
    "]"
   ]
  },
  {
   "cell_type": "code",
   "execution_count": 25,
   "metadata": {},
   "outputs": [],
   "source": [
    "def make_box(n):\n",
    "    out_list = []\n",
    "    for ele in range(n):\n",
    "        if ele == 0 or ele == n-1:\n",
    "            out_list.append('#'*n)\n",
    "        else:\n",
    "            out_list.append('#'+' '*(n-2)+'#')\n",
    "    for ele in out_list:\n",
    "        print(ele)\n",
    "    print()\n",
    "    "
   ]
  },
  {
   "cell_type": "code",
   "execution_count": 26,
   "metadata": {},
   "outputs": [
    {
     "name": "stdout",
     "output_type": "stream",
     "text": [
      "#####\n",
      "#   #\n",
      "#   #\n",
      "#   #\n",
      "#####\n",
      "\n"
     ]
    }
   ],
   "source": [
    "make_box(5)"
   ]
  },
  {
   "cell_type": "code",
   "execution_count": 27,
   "metadata": {},
   "outputs": [
    {
     "name": "stdout",
     "output_type": "stream",
     "text": [
      "###\n",
      "# #\n",
      "###\n",
      "\n"
     ]
    }
   ],
   "source": [
    "make_box(3)"
   ]
  },
  {
   "cell_type": "markdown",
   "metadata": {},
   "source": [
    "### 4. Given a common phrase, return False if any individual word in the phrase contains duplicate letters. Return True otherwise.\n",
    "\n",
    "Examples\n",
    "\n",
    "no_duplicate_letters(&quot;Fortune favours the bold.&quot;) ➞ True\n",
    "\n",
    "no_duplicate_letters(&quot;You can lead a horse to water, but you can&#39;t make him\n",
    "drink.&quot;) ➞ True\n",
    "\n",
    "no_duplicate_letters(&quot;Look before you leap.&quot;) ➞ False\n",
    "\n",
    " Duplicate letters in &quot;Look&quot; and &quot;before&quot;.\n",
    " \n",
    "no_duplicate_letters(&quot;An apple a day keeps the doctor away.&quot;) ➞ False\n",
    " Duplicate letters in &quot;apple&quot;, &quot;keeps&quot;, &quot;doctor&quot;, and &quot;away&quot;."
   ]
  },
  {
   "cell_type": "code",
   "execution_count": 34,
   "metadata": {},
   "outputs": [],
   "source": [
    "def no_duplicate_letters(inp):\n",
    "    words=inp.split(\" \")\n",
    "    out=False\n",
    "    for i in words:\n",
    "        if len(i)==len(set(i)):\n",
    "            out= True\n",
    "        else:\n",
    "            out= False\n",
    "            break\n",
    "    return out\n",
    "            "
   ]
  },
  {
   "cell_type": "code",
   "execution_count": 35,
   "metadata": {},
   "outputs": [
    {
     "data": {
      "text/plain": [
       "True"
      ]
     },
     "execution_count": 35,
     "metadata": {},
     "output_type": "execute_result"
    }
   ],
   "source": [
    "no_duplicate_letters(\"Fortune favours the bold.\")"
   ]
  },
  {
   "cell_type": "code",
   "execution_count": 37,
   "metadata": {},
   "outputs": [
    {
     "data": {
      "text/plain": [
       "False"
      ]
     },
     "execution_count": 37,
     "metadata": {},
     "output_type": "execute_result"
    }
   ],
   "source": [
    "no_duplicate_letters(\"Look before you leap.\") "
   ]
  },
  {
   "cell_type": "markdown",
   "metadata": {},
   "source": [
    "### 5. Write a regular expression that will match the states that voted yes to President Trump&#39;s impeachment. You must use RegEx positive lookahead.\n",
    "Example\n",
    "txt = &quot;Texas = no, California = yes, Florida = yes, Michigan = no&quot;\n",
    "pattern = &quot;yourregularexpressionhere&quot;\n",
    "\n",
    "re.findall(pattern, txt) ➞ [&quot;California&quot;, &quot;Florida&quot;]"
   ]
  },
  {
   "cell_type": "code",
   "execution_count": 39,
   "metadata": {},
   "outputs": [
    {
     "name": "stdout",
     "output_type": "stream",
     "text": [
      "['California', 'Florida']\n"
     ]
    }
   ],
   "source": [
    "import re\n",
    "txt = \"Texas = no, California = yes, Florida = yes, Michigan = no\"\n",
    "pattern = r'\\w+(?=\\s=\\syes*)'\n",
    "match = re.findall(pattern,txt)\n",
    "print(match) "
   ]
  }
 ],
 "metadata": {
  "kernelspec": {
   "display_name": "Python 3",
   "language": "python",
   "name": "python3"
  },
  "language_info": {
   "codemirror_mode": {
    "name": "ipython",
    "version": 3
   },
   "file_extension": ".py",
   "mimetype": "text/x-python",
   "name": "python",
   "nbconvert_exporter": "python",
   "pygments_lexer": "ipython3",
   "version": "3.8.5"
  }
 },
 "nbformat": 4,
 "nbformat_minor": 4
}
