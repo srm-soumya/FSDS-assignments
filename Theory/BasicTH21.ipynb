{
 "cells": [
  {
   "cell_type": "markdown",
   "metadata": {},
   "source": [
    "### 1. Add the current date to the text file today.txt as a string."
   ]
  },
  {
   "cell_type": "code",
   "execution_count": 1,
   "metadata": {},
   "outputs": [
    {
     "name": "stdout",
     "output_type": "stream",
     "text": [
      "16-07-2022\n"
     ]
    }
   ],
   "source": [
    "import datetime\n",
    "# Code to Add current date to the today.txt file\n",
    "file = open('today.txt','w')\n",
    "file.write(datetime.datetime.now().strftime(\"%d-%m-%Y\"))\n",
    "file.close()\n",
    "# Code to Read current date from today.txt file\n",
    "file = open('today.txt','r')\n",
    "print(file.read())\n",
    "file.close()"
   ]
  },
  {
   "cell_type": "markdown",
   "metadata": {},
   "source": [
    "### 2. Read the text file today.txt into the string today_string"
   ]
  },
  {
   "cell_type": "code",
   "execution_count": 2,
   "metadata": {},
   "outputs": [
    {
     "name": "stdout",
     "output_type": "stream",
     "text": [
      "16-07-2022\n"
     ]
    }
   ],
   "source": [
    "file = open('today.txt','r')\n",
    "today_string = file.read()\n",
    "print(today_string)"
   ]
  },
  {
   "cell_type": "markdown",
   "metadata": {},
   "source": [
    "### 3. Parse the date from today_string."
   ]
  },
  {
   "cell_type": "code",
   "execution_count": 3,
   "metadata": {},
   "outputs": [
    {
     "name": "stdout",
     "output_type": "stream",
     "text": [
      "2022-07-16 00:00:00\n"
     ]
    }
   ],
   "source": [
    "from datetime import datetime\n",
    "parsed_data = datetime.strptime(today_string, '%d-%m-%Y')\n",
    "print(parsed_data)"
   ]
  },
  {
   "cell_type": "markdown",
   "metadata": {},
   "source": [
    "### 4. List the files in your current directory"
   ]
  },
  {
   "cell_type": "code",
   "execution_count": 4,
   "metadata": {},
   "outputs": [
    {
     "name": "stdout",
     "output_type": "stream",
     "text": [
      "application_log.txt\n",
      "BasicTH1.ipynb\n",
      "BasicTH10.ipynb\n",
      "BasicTH11.ipynb\n",
      "BasicTH12.ipynb\n",
      "BasicTH13.ipynb\n",
      "BasicTH14.ipynb\n",
      "BasicTH15.ipynb\n",
      "BasicTH16.ipynb\n",
      "BasicTH17.ipynb\n",
      "BasicTH18.ipynb\n",
      "BasicTH19.ipynb\n",
      "BasicTH2.ipynb\n",
      "BasicTH20.ipynb\n",
      "BasicTH21.ipynb\n",
      "BasicTH3.ipynb\n",
      "BasicTH4.ipynb\n",
      "BasicTH5.ipynb\n",
      "BasicTH6.ipynb\n",
      "BasicTH7.ipynb\n",
      "BasicTH8.ipynb\n",
      "BasicTH9.ipynb\n",
      "books .db\n",
      "books.csv\n",
      "books.db\n",
      "programLog.txt\n",
      "Quotefancy-2003712-3840x2160.jpg\n",
      "test.txt\n",
      "today.txt\n",
      "zoo.py\n",
      "BasicTH1-checkpoint.ipynb\n",
      "BasicTH10-checkpoint.ipynb\n",
      "BasicTH11-checkpoint.ipynb\n",
      "BasicTH12-checkpoint.ipynb\n",
      "BasicTH13-checkpoint.ipynb\n",
      "BasicTH14-checkpoint.ipynb\n",
      "BasicTH15-checkpoint.ipynb\n",
      "BasicTH16-checkpoint.ipynb\n",
      "BasicTH17-checkpoint.ipynb\n",
      "BasicTH18-checkpoint.ipynb\n",
      "BasicTH19-checkpoint.ipynb\n",
      "BasicTH2-checkpoint.ipynb\n",
      "BasicTH20-checkpoint.ipynb\n",
      "BasicTH21-checkpoint.ipynb\n",
      "BasicTH3-checkpoint.ipynb\n",
      "BasicTH4-checkpoint.ipynb\n",
      "BasicTH5-checkpoint.ipynb\n",
      "BasicTH6-checkpoint.ipynb\n",
      "BasicTH7-checkpoint.ipynb\n",
      "BasicTH8-checkpoint.ipynb\n",
      "BasicTH9-checkpoint.ipynb\n",
      "zoo.cpython-38.pyc\n"
     ]
    }
   ],
   "source": [
    "import os\n",
    "for folders, subfolders, files in os.walk(os.getcwd()):\n",
    "    for file in files:\n",
    "        print(file)"
   ]
  },
  {
   "cell_type": "markdown",
   "metadata": {},
   "source": [
    "### 5. Create a list of all of the files in your parent directory (minimum five files should be available)."
   ]
  },
  {
   "cell_type": "code",
   "execution_count": 5,
   "metadata": {},
   "outputs": [
    {
     "data": {
      "text/plain": [
       "['.ipynb_checkpoints',\n",
       " 'application_log.txt',\n",
       " 'BasicTH1.ipynb',\n",
       " 'BasicTH10.ipynb',\n",
       " 'BasicTH11.ipynb',\n",
       " 'BasicTH12.ipynb',\n",
       " 'BasicTH13.ipynb',\n",
       " 'BasicTH14.ipynb',\n",
       " 'BasicTH15.ipynb',\n",
       " 'BasicTH16.ipynb',\n",
       " 'BasicTH17.ipynb',\n",
       " 'BasicTH18.ipynb',\n",
       " 'BasicTH19.ipynb',\n",
       " 'BasicTH2.ipynb',\n",
       " 'BasicTH20.ipynb',\n",
       " 'BasicTH21.ipynb',\n",
       " 'BasicTH3.ipynb',\n",
       " 'BasicTH4.ipynb',\n",
       " 'BasicTH5.ipynb',\n",
       " 'BasicTH6.ipynb',\n",
       " 'BasicTH7.ipynb',\n",
       " 'BasicTH8.ipynb',\n",
       " 'BasicTH9.ipynb',\n",
       " 'books .db',\n",
       " 'books.csv',\n",
       " 'books.db',\n",
       " 'programLog.txt',\n",
       " 'Quotefancy-2003712-3840x2160.jpg',\n",
       " 'test.txt',\n",
       " 'today.txt',\n",
       " 'zoo.py',\n",
       " '__pycache__']"
      ]
     },
     "execution_count": 5,
     "metadata": {},
     "output_type": "execute_result"
    }
   ],
   "source": [
    "import os \n",
    "os.listdir()"
   ]
  },
  {
   "cell_type": "markdown",
   "metadata": {},
   "source": [
    "### 6. Use multiprocessing to create three separate processes. Make each one wait a random number of seconds between one and five, print the current time, and then exit."
   ]
  },
  {
   "cell_type": "code",
   "execution_count": 6,
   "metadata": {},
   "outputs": [],
   "source": [
    "import multiprocessing\n",
    "import time \n",
    "import random\n",
    "import datetime\n",
    "\n",
    "def procOne():\n",
    "    print(f'Proc_one_Starttime -> {datetime.datetime.now()}')\n",
    "    time.sleep(random.randint(1,5))\n",
    "    print(f'Proc_one_Endtime -> {datetime.datetime.now()}')\n",
    "    \n",
    "def procTwo():\n",
    "    print(f'Proc_two_Starttime -> {datetime.datetime.now()}')\n",
    "    time.sleep(random.randint(1,5))\n",
    "    print(f'Proc_two_Endtime -> {datetime.datetime.now()}')\n",
    "\n",
    "def procThree():\n",
    "    print(f'Proc_two_Starttime -> {datetime.datetime.now()}')\n",
    "    time.sleep(random.randint(1,5))\n",
    "    print(f'Proc_two_Endtime -> {datetime.datetime.now()}')\n",
    "    \n",
    "if __name__ == \"__main__\":    \n",
    "    p1 = multiprocessing.Process(target=procOne)\n",
    "    p2 = multiprocessing.Process(target=procTwo)\n",
    "    p3 = multiprocessing.Process(target=procThree)\n",
    "\n",
    "    p1.start()\n",
    "    p2.start()\n",
    "    p3.start()\n",
    "\n",
    "    p1.join()\n",
    "    p2.join()\n",
    "    p3.join()"
   ]
  },
  {
   "cell_type": "markdown",
   "metadata": {},
   "source": [
    "### 7. Create a date object of your day of birth."
   ]
  },
  {
   "cell_type": "code",
   "execution_count": 10,
   "metadata": {},
   "outputs": [
    {
     "name": "stdout",
     "output_type": "stream",
     "text": [
      "1999-03-26 00:00:00 <class 'datetime.datetime'>\n"
     ]
    }
   ],
   "source": [
    "from datetime import datetime\n",
    "my_dob = datetime.strptime('26/03/1999','%d/%m/%Y')\n",
    "print(my_dob, type(my_dob))"
   ]
  },
  {
   "cell_type": "markdown",
   "metadata": {},
   "source": [
    "### 8. What day of the week was your day of birth?"
   ]
  },
  {
   "cell_type": "code",
   "execution_count": 11,
   "metadata": {},
   "outputs": [
    {
     "data": {
      "text/plain": [
       "'Friday'"
      ]
     },
     "execution_count": 11,
     "metadata": {},
     "output_type": "execute_result"
    }
   ],
   "source": [
    "from datetime import datetime\n",
    "my_dob = datetime(1999,3,26)\n",
    "my_dob.strftime(\"%A\")"
   ]
  },
  {
   "cell_type": "markdown",
   "metadata": {},
   "source": [
    "### 9. When will you be (or when were you) 10,000 days old?### 9. When will you be (or when were you) 10,000 days old?"
   ]
  },
  {
   "cell_type": "code",
   "execution_count": 14,
   "metadata": {},
   "outputs": [
    {
     "data": {
      "text/plain": [
       "datetime.datetime(2026, 8, 11, 0, 0)"
      ]
     },
     "execution_count": 14,
     "metadata": {},
     "output_type": "execute_result"
    }
   ],
   "source": [
    "from datetime import datetime, timedelta\n",
    "my_dob = datetime.strptime(\"26/03/1999\",'%d/%m/%Y')\n",
    "future_date = my_dob-timedelta(-10000)\n",
    "future_date"
   ]
  }
 ],
 "metadata": {
  "kernelspec": {
   "display_name": "Python 3",
   "language": "python",
   "name": "python3"
  },
  "language_info": {
   "codemirror_mode": {
    "name": "ipython",
    "version": 3
   },
   "file_extension": ".py",
   "mimetype": "text/x-python",
   "name": "python",
   "nbconvert_exporter": "python",
   "pygments_lexer": "ipython3",
   "version": "3.8.5"
  }
 },
 "nbformat": 4,
 "nbformat_minor": 4
}
