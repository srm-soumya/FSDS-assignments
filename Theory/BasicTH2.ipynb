{
 "cells": [
  {
   "cell_type": "markdown",
   "metadata": {},
   "source": [
    "Ques 1"
   ]
  },
  {
   "cell_type": "markdown",
   "metadata": {},
   "source": [
    "The two values of Boolean data type are True or False.We can write them by directly initialzing to a variable or getting output for any expression."
   ]
  },
  {
   "cell_type": "markdown",
   "metadata": {},
   "source": [
    "Ques 2"
   ]
  },
  {
   "cell_type": "markdown",
   "metadata": {},
   "source": [
    "The three types of Boolean operators are AND, OR and NOT. These are also called as logical operators."
   ]
  },
  {
   "cell_type": "markdown",
   "metadata": {},
   "source": [
    "Ques 3"
   ]
  },
  {
   "cell_type": "markdown",
   "metadata": {},
   "source": [
    "AND TABLE\n",
    "\n",
    "Input1        Input2      Output\n",
    "\n",
    "     0            0           0\n",
    "     0            1           0\n",
    "     1            0           0\n",
    "     1            1           1\n",
    "     \n",
    "\n",
    "OR TABLE\n",
    "\n",
    "Input1        Input2      Output\n",
    "\n",
    "     0            0           0\n",
    "     0            1           1\n",
    "     1            0           1\n",
    "     1            1           1\n",
    "     \n",
    "     \n",
    "NOT \n",
    "\n",
    "Input        Output     \n",
    "\n",
    "     0            1           \n",
    "     1            0      "
   ]
  },
  {
   "cell_type": "markdown",
   "metadata": {},
   "source": [
    "Ques 4"
   ]
  },
  {
   "cell_type": "markdown",
   "metadata": {},
   "source": [
    "(5 > 4) and (3 == 5) ---> Since the 2nd expression is false, the output is FALSE                \n",
    "not(5>4) ---> Since the expression is true, the output is FALSE.                            \n",
    "(5 > 4) or (3 == 5) ---> Since 1 expression is true, the output is TRUE.                                  \n",
    "not ((5 > 4) or (3 == 5)) ---> Since the output of expression is true; applying not will yield FALSE.                     \n",
    "(True and True) and (True == False) ---> The 2nd expression is false; thus output is FALSE.                             \n",
    "(not False) or (not True) ---> true or false yields TRUE."
   ]
  },
  {
   "cell_type": "markdown",
   "metadata": {},
   "source": [
    "Ques 5"
   ]
  },
  {
   "cell_type": "markdown",
   "metadata": {},
   "source": [
    "The six comparison operators are >(greater than), <(less than), ==(equal to), >=(greater than or equal to),      \n",
    "<=(less than or equal to), !=(not equal to)"
   ]
  },
  {
   "cell_type": "markdown",
   "metadata": {},
   "source": [
    "Ques 6"
   ]
  },
  {
   "cell_type": "markdown",
   "metadata": {},
   "source": [
    "Equal to operator contains 2 equal symbols while assignment operator contains 1 equal symbols. Equal to operator is used to compare 2 expressions while assignment operator is used in order to assign a value to a variable."
   ]
  },
  {
   "cell_type": "markdown",
   "metadata": {},
   "source": [
    "Ques 7"
   ]
  },
  {
   "cell_type": "markdown",
   "metadata": {},
   "source": [
    "The 3 blocks in the code given in the question are:\n",
    "1. if spam==10:\n",
    "2. if spam>5:\n",
    "3. else:"
   ]
  },
  {
   "cell_type": "markdown",
   "metadata": {},
   "source": [
    "Ques 8"
   ]
  },
  {
   "cell_type": "code",
   "execution_count": 1,
   "metadata": {},
   "outputs": [
    {
     "name": "stdout",
     "output_type": "stream",
     "text": [
      "Enter value for spam:  2\n",
      "Howdy\n"
     ]
    }
   ],
   "source": [
    "spam=int(input(\"Enter value for spam:  \"))\n",
    "if spam==1:\n",
    "    print(\"Hello\")\n",
    "elif spam==2:\n",
    "    print(\"Howdy\")\n",
    "else:\n",
    "    print(\"Greetings\")"
   ]
  },
  {
   "cell_type": "markdown",
   "metadata": {},
   "source": [
    "Ques 9"
   ]
  },
  {
   "cell_type": "markdown",
   "metadata": {},
   "source": [
    "If the program is stuck in an endless loop, we need to restart the Kernel. The shortcut for this process is 0,0 "
   ]
  },
  {
   "cell_type": "markdown",
   "metadata": {},
   "source": [
    "Ques 10"
   ]
  },
  {
   "cell_type": "markdown",
   "metadata": {},
   "source": [
    "The break statement when imposed in a loop makes the execution come out of the loop completely.            \n",
    "While continue statement when imposed doesn't execute the statements for that particular single loop where condition is satisfied."
   ]
  },
  {
   "cell_type": "markdown",
   "metadata": {},
   "source": [
    "Ques 11"
   ]
  },
  {
   "cell_type": "markdown",
   "metadata": {},
   "source": [
    "Though outputs in the 3 cases: range(10), range(0,10) and range(0,10,1) are same, but the structure is different.             \n",
    "In the 1st case upper limit is only given,the lower limit is assumed 0 and step-size is 1 by default.                           \n",
    "In the 2nd case both upper and lower limits are given; step-size is 1 by default.                       \n",
    "In the 3rd case lower limit,upper limit,step-size all are mentioned."
   ]
  },
  {
   "cell_type": "markdown",
   "metadata": {},
   "source": [
    "Ques 12"
   ]
  },
  {
   "cell_type": "code",
   "execution_count": 5,
   "metadata": {},
   "outputs": [
    {
     "name": "stdout",
     "output_type": "stream",
     "text": [
      "1\n",
      "2\n",
      "3\n",
      "4\n",
      "5\n",
      "6\n",
      "7\n",
      "8\n",
      "9\n",
      "10\n",
      "1\n",
      "2\n",
      "3\n",
      "4\n",
      "5\n",
      "6\n",
      "7\n",
      "8\n",
      "9\n",
      "10\n"
     ]
    }
   ],
   "source": [
    "for i  in range(1,11):\n",
    "    print(i)\n",
    "i=1\n",
    "while i<=10:\n",
    "    print(i)\n",
    "    i+=1"
   ]
  },
  {
   "cell_type": "markdown",
   "metadata": {},
   "source": [
    "Ques 13"
   ]
  },
  {
   "cell_type": "markdown",
   "metadata": {},
   "source": [
    "After importing spam module to call bacon() we use ---> spam.bacon()"
   ]
  }
 ],
 "metadata": {
  "kernelspec": {
   "display_name": "Python 3",
   "language": "python",
   "name": "python3"
  },
  "language_info": {
   "codemirror_mode": {
    "name": "ipython",
    "version": 3
   },
   "file_extension": ".py",
   "mimetype": "text/x-python",
   "name": "python",
   "nbconvert_exporter": "python",
   "pygments_lexer": "ipython3",
   "version": "3.8.5"
  }
 },
 "nbformat": 4,
 "nbformat_minor": 4
}
