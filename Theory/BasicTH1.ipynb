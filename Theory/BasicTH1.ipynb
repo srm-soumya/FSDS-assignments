{
 "cells": [
  {
   "cell_type": "markdown",
   "metadata": {},
   "source": [
    "Ques 1"
   ]
  },
  {
   "cell_type": "markdown",
   "metadata": {},
   "source": [
    "Values: 'hello' , -87.8 , 6                      \n",
    "\n",
    "Expressions: *, - , / , + "
   ]
  },
  {
   "cell_type": "markdown",
   "metadata": {},
   "source": [
    "Ques 2"
   ]
  },
  {
   "cell_type": "markdown",
   "metadata": {},
   "source": [
    "A variable is a storehouse where you store information while a string is a type of information stored inside a variable using quotes.   \n",
    "Ex- x=\"Lion\". Here *x* is a variable while *Lion* is a string"
   ]
  },
  {
   "cell_type": "markdown",
   "metadata": {},
   "source": [
    "Ques 3"
   ]
  },
  {
   "cell_type": "markdown",
   "metadata": {},
   "source": [
    "The different data types in python are: (1).Numeric data types-like int,long,float\n",
    "                                        (2).Sequence data types-like lists,tuples\n",
    "                                        (3).Mapping data types-like dictionary"
   ]
  },
  {
   "cell_type": "markdown",
   "metadata": {},
   "source": [
    "Ques 4"
   ]
  },
  {
   "cell_type": "markdown",
   "metadata": {},
   "source": [
    "An expression is made up of operators and operands. Operands can be values or variables. An expression is used in order to find out desired output required by the user by evaluating it."
   ]
  },
  {
   "cell_type": "markdown",
   "metadata": {},
   "source": [
    "Ques 5"
   ]
  },
  {
   "cell_type": "markdown",
   "metadata": {},
   "source": [
    "In the statement spam=10 the value 10 is assigned to spam. The difference between an expression and statement is that an expression evaluates something using its computational power and gives the output while a statement just obeys what the user says to it like initialization and printing."
   ]
  },
  {
   "cell_type": "markdown",
   "metadata": {},
   "source": [
    "Ques 6"
   ]
  },
  {
   "cell_type": "markdown",
   "metadata": {},
   "source": [
    "bacon=22. This is because after the operation we have not assigned the new value to bacon. So the value of bacon is unchanged."
   ]
  },
  {
   "cell_type": "markdown",
   "metadata": {},
   "source": [
    "Ques 7"
   ]
  },
  {
   "cell_type": "markdown",
   "metadata": {},
   "source": [
    "'spam'+'spamspam' ---> spamspamspam     \n",
    "'spam'*3---> spamspamspam"
   ]
  },
  {
   "cell_type": "markdown",
   "metadata": {},
   "source": [
    "Ques 8"
   ]
  },
  {
   "cell_type": "markdown",
   "metadata": {},
   "source": [
    "*eggs* is a valid variable name while *100* is not because it didn't obey the general protocols of writing a variable name. A variable name shouldn't begin with a digit."
   ]
  },
  {
   "cell_type": "markdown",
   "metadata": {},
   "source": [
    "Ques 9"
   ]
  },
  {
   "cell_type": "markdown",
   "metadata": {},
   "source": [
    "Let the value be assigned to a variable x.  1. TO print the int value---> int(x)                                                                                             2. TO print the float value--->float(x)\n",
    "                                            3. TO print the string value--->str(x)"
   ]
  },
  {
   "cell_type": "markdown",
   "metadata": {},
   "source": [
    "Ques 10"
   ]
  },
  {
   "cell_type": "markdown",
   "metadata": {},
   "source": [
    "In the expression 'I have eaten' + 99 + 'burritos' a string is added to an integer. It can't happen. So it shows an error. To avoid that make the integer as string.---->'I have eaten' + '99' + 'burritos'"
   ]
  }
 ],
 "metadata": {
  "kernelspec": {
   "display_name": "Python 3",
   "language": "python",
   "name": "python3"
  },
  "language_info": {
   "codemirror_mode": {
    "name": "ipython",
    "version": 3
   },
   "file_extension": ".py",
   "mimetype": "text/x-python",
   "name": "python",
   "nbconvert_exporter": "python",
   "pygments_lexer": "ipython3",
   "version": "3.8.5"
  }
 },
 "nbformat": 4,
 "nbformat_minor": 4
}
