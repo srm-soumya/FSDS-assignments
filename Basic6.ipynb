{
 "cells": [
  {
   "cell_type": "markdown",
   "metadata": {},
   "source": [
    "Ques 1"
   ]
  },
  {
   "cell_type": "code",
   "execution_count": 5,
   "metadata": {},
   "outputs": [],
   "source": [
    "#Print 100 numbers in FIBONACCI sequence\n",
    "count=0\n",
    "def Fibonacci(a,b):\n",
    "    global count\n",
    "    while count<100:\n",
    "        a,b=b,a+b\n",
    "        count+=1\n",
    "        print(b)\n",
    "        Fibonacci(a,b) \n"
   ]
  },
  {
   "cell_type": "code",
   "execution_count": 6,
   "metadata": {},
   "outputs": [
    {
     "name": "stdout",
     "output_type": "stream",
     "text": [
      "1\n",
      "2\n",
      "3\n",
      "5\n",
      "8\n",
      "13\n",
      "21\n",
      "34\n",
      "55\n",
      "89\n",
      "144\n",
      "233\n",
      "377\n",
      "610\n",
      "987\n",
      "1597\n",
      "2584\n",
      "4181\n",
      "6765\n",
      "10946\n",
      "17711\n",
      "28657\n",
      "46368\n",
      "75025\n",
      "121393\n",
      "196418\n",
      "317811\n",
      "514229\n",
      "832040\n",
      "1346269\n",
      "2178309\n",
      "3524578\n",
      "5702887\n",
      "9227465\n",
      "14930352\n",
      "24157817\n",
      "39088169\n",
      "63245986\n",
      "102334155\n",
      "165580141\n",
      "267914296\n",
      "433494437\n",
      "701408733\n",
      "1134903170\n",
      "1836311903\n",
      "2971215073\n",
      "4807526976\n",
      "7778742049\n",
      "12586269025\n",
      "20365011074\n",
      "32951280099\n",
      "53316291173\n",
      "86267571272\n",
      "139583862445\n",
      "225851433717\n",
      "365435296162\n",
      "591286729879\n",
      "956722026041\n",
      "1548008755920\n",
      "2504730781961\n",
      "4052739537881\n",
      "6557470319842\n",
      "10610209857723\n",
      "17167680177565\n",
      "27777890035288\n",
      "44945570212853\n",
      "72723460248141\n",
      "117669030460994\n",
      "190392490709135\n",
      "308061521170129\n",
      "498454011879264\n",
      "806515533049393\n",
      "1304969544928657\n",
      "2111485077978050\n",
      "3416454622906707\n",
      "5527939700884757\n",
      "8944394323791464\n",
      "14472334024676221\n",
      "23416728348467685\n",
      "37889062373143906\n",
      "61305790721611591\n",
      "99194853094755497\n",
      "160500643816367088\n",
      "259695496911122585\n",
      "420196140727489673\n",
      "679891637638612258\n",
      "1100087778366101931\n",
      "1779979416004714189\n",
      "2880067194370816120\n",
      "4660046610375530309\n",
      "7540113804746346429\n",
      "12200160415121876738\n",
      "19740274219868223167\n",
      "31940434634990099905\n",
      "51680708854858323072\n",
      "83621143489848422977\n",
      "135301852344706746049\n",
      "218922995834555169026\n",
      "354224848179261915075\n",
      "573147844013817084101\n"
     ]
    }
   ],
   "source": [
    "Fibonacci(0,1)"
   ]
  },
  {
   "cell_type": "markdown",
   "metadata": {},
   "source": [
    "Ques 2"
   ]
  },
  {
   "cell_type": "code",
   "execution_count": 7,
   "metadata": {},
   "outputs": [],
   "source": [
    "def Factorial(n):\n",
    "    if n==0:\n",
    "        return 1\n",
    "    return n * Factorial(n-1)\n",
    "       "
   ]
  },
  {
   "cell_type": "code",
   "execution_count": 9,
   "metadata": {},
   "outputs": [
    {
     "data": {
      "text/plain": [
       "5040"
      ]
     },
     "execution_count": 9,
     "metadata": {},
     "output_type": "execute_result"
    }
   ],
   "source": [
    "Factorial(7)"
   ]
  },
  {
   "cell_type": "markdown",
   "metadata": {},
   "source": [
    "Ques 3"
   ]
  },
  {
   "cell_type": "code",
   "execution_count": 10,
   "metadata": {},
   "outputs": [],
   "source": [
    "def bmi():\n",
    "    kg=float(input(\"Enter your weight in kgs  \"))\n",
    "    m=float(input(\"Enter your height in m  \"))\n",
    "    b=kg/(m*m)\n",
    "    if b<18.5:\n",
    "        print(\"You are underweight and your bmi is \",b)\n",
    "    elif 18.5<=b<25:\n",
    "        print(\"You are normal and your bmi is \",b)\n",
    "    elif 25<=b<30:\n",
    "        print(\"You are overweight and your bmi is \",b)\n",
    "    else:\n",
    "        print(\"You are obese and your bmi is \",b)"
   ]
  },
  {
   "cell_type": "code",
   "execution_count": 11,
   "metadata": {},
   "outputs": [
    {
     "name": "stdout",
     "output_type": "stream",
     "text": [
      "Enter your weight in kgs  65\n",
      "Enter your height in m  1.6\n",
      "You are overweight and your bmi is  25.390624999999996\n"
     ]
    }
   ],
   "source": [
    "bmi()"
   ]
  },
  {
   "cell_type": "markdown",
   "metadata": {},
   "source": [
    "Ques 4"
   ]
  },
  {
   "cell_type": "code",
   "execution_count": 12,
   "metadata": {},
   "outputs": [
    {
     "name": "stdout",
     "output_type": "stream",
     "text": [
      "Enter the number whose natural logarithm u want to find: 100\n",
      "The natural logarithm is : 4.605170185988092\n"
     ]
    }
   ],
   "source": [
    "import math\n",
    "a=float(input(\"Enter the number whose natural logarithm u want to find: \"))\n",
    "print(\"The natural logarithm is :\",math.log(a))"
   ]
  },
  {
   "cell_type": "markdown",
   "metadata": {},
   "source": [
    "Ques 5"
   ]
  },
  {
   "cell_type": "code",
   "execution_count": 13,
   "metadata": {},
   "outputs": [
    {
     "name": "stdout",
     "output_type": "stream",
     "text": [
      "Enter the number upto which u want the sum  4\n",
      "The sum is  100\n"
     ]
    }
   ],
   "source": [
    "sum=0\n",
    "n=int(input(\"Enter the number upto which u want the sum  \"))\n",
    "for i in range(1,n+1):\n",
    "    sum+=i**3\n",
    "print(\"The sum is \",sum)"
   ]
  }
 ],
 "metadata": {
  "kernelspec": {
   "display_name": "Python 3",
   "language": "python",
   "name": "python3"
  },
  "language_info": {
   "codemirror_mode": {
    "name": "ipython",
    "version": 3
   },
   "file_extension": ".py",
   "mimetype": "text/x-python",
   "name": "python",
   "nbconvert_exporter": "python",
   "pygments_lexer": "ipython3",
   "version": "3.8.5"
  }
 },
 "nbformat": 4,
 "nbformat_minor": 4
}
